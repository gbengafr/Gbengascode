{
 "cells": [
  {
   "cell_type": "markdown",
   "id": "05e8d112",
   "metadata": {},
   "source": [
    "Importing Libraries"
   ]
  },
  {
   "cell_type": "code",
   "execution_count": 1,
   "id": "75ba9482",
   "metadata": {},
   "outputs": [],
   "source": [
    "import numpy as np"
   ]
  },
  {
   "cell_type": "code",
   "execution_count": 2,
   "id": "53effe16",
   "metadata": {},
   "outputs": [],
   "source": [
    "import pandas as pd"
   ]
  },
  {
   "cell_type": "markdown",
   "id": "7f480976",
   "metadata": {},
   "source": [
    "Loading Data"
   ]
  },
  {
   "cell_type": "code",
   "execution_count": 6,
   "id": "0ca71932",
   "metadata": {},
   "outputs": [
    {
     "data": {
      "text/html": [
       "<div>\n",
       "<style scoped>\n",
       "    .dataframe tbody tr th:only-of-type {\n",
       "        vertical-align: middle;\n",
       "    }\n",
       "\n",
       "    .dataframe tbody tr th {\n",
       "        vertical-align: top;\n",
       "    }\n",
       "\n",
       "    .dataframe thead th {\n",
       "        text-align: right;\n",
       "    }\n",
       "</style>\n",
       "<table border=\"1\" class=\"dataframe\">\n",
       "  <thead>\n",
       "    <tr style=\"text-align: right;\">\n",
       "      <th></th>\n",
       "      <th>s/n</th>\n",
       "      <th>Artist</th>\n",
       "      <th>ARTIST - FIXED</th>\n",
       "      <th>COUNTRY - FIXED</th>\n",
       "      <th>period_active</th>\n",
       "      <th>Year</th>\n",
       "      <th>Genre</th>\n",
       "      <th>TCU(millions)</th>\n",
       "      <th>sales(millions)</th>\n",
       "    </tr>\n",
       "  </thead>\n",
       "  <tbody>\n",
       "    <tr>\n",
       "      <th>0</th>\n",
       "      <td>1</td>\n",
       "      <td>The Beatles</td>\n",
       "      <td>THE BEATLES</td>\n",
       "      <td>UNITED STATES</td>\n",
       "      <td>1960–1970</td>\n",
       "      <td>1962.0</td>\n",
       "      <td>Rock / pop</td>\n",
       "      <td>290.4</td>\n",
       "      <td>NaN</td>\n",
       "    </tr>\n",
       "    <tr>\n",
       "      <th>1</th>\n",
       "      <td>2</td>\n",
       "      <td>Elvis Presley</td>\n",
       "      <td>ELVIS PRESLEY</td>\n",
       "      <td>UNITED STATES</td>\n",
       "      <td>1954 - 1977</td>\n",
       "      <td>1956.0</td>\n",
       "      <td>Rock and roll / pop / country</td>\n",
       "      <td>231.2</td>\n",
       "      <td>500.0</td>\n",
       "    </tr>\n",
       "    <tr>\n",
       "      <th>2</th>\n",
       "      <td>3</td>\n",
       "      <td>Michael Jackson</td>\n",
       "      <td>MICHAEL JACKSON</td>\n",
       "      <td>UNITED KINGDOM</td>\n",
       "      <td>1964 - 2009</td>\n",
       "      <td>1971.0</td>\n",
       "      <td>Pop / rock / dance / soul / R&amp;B</td>\n",
       "      <td>277.3</td>\n",
       "      <td>400.0</td>\n",
       "    </tr>\n",
       "    <tr>\n",
       "      <th>3</th>\n",
       "      <td>4</td>\n",
       "      <td>Elton John</td>\n",
       "      <td>ELTON JOHN</td>\n",
       "      <td>UNITED STATES</td>\n",
       "      <td>1964 - present</td>\n",
       "      <td>1970.0</td>\n",
       "      <td>Pop / rock</td>\n",
       "      <td>208.0</td>\n",
       "      <td>NaN</td>\n",
       "    </tr>\n",
       "    <tr>\n",
       "      <th>4</th>\n",
       "      <td>5</td>\n",
       "      <td>Queen</td>\n",
       "      <td>QUEEN</td>\n",
       "      <td>UNITED STATES</td>\n",
       "      <td>1971 - present</td>\n",
       "      <td>1973.0</td>\n",
       "      <td>Rock</td>\n",
       "      <td>NaN</td>\n",
       "      <td>NaN</td>\n",
       "    </tr>\n",
       "    <tr>\n",
       "      <th>...</th>\n",
       "      <td>...</td>\n",
       "      <td>...</td>\n",
       "      <td>...</td>\n",
       "      <td>...</td>\n",
       "      <td>...</td>\n",
       "      <td>...</td>\n",
       "      <td>...</td>\n",
       "      <td>...</td>\n",
       "      <td>...</td>\n",
       "    </tr>\n",
       "    <tr>\n",
       "      <th>119</th>\n",
       "      <td>120</td>\n",
       "      <td>Kiss</td>\n",
       "      <td>KISS</td>\n",
       "      <td>United States</td>\n",
       "      <td>1972 - present</td>\n",
       "      <td>1974.0</td>\n",
       "      <td>Hard rock / heavy metal</td>\n",
       "      <td>28.7</td>\n",
       "      <td>75.0</td>\n",
       "    </tr>\n",
       "    <tr>\n",
       "      <th>120</th>\n",
       "      <td>121</td>\n",
       "      <td>Aretha Franklin</td>\n",
       "      <td>ARETHA FRANKLIN</td>\n",
       "      <td>United States</td>\n",
       "      <td>1956 - 2018</td>\n",
       "      <td>1961.0</td>\n",
       "      <td>Soul / jazz / blues / R&amp;B</td>\n",
       "      <td>26.6</td>\n",
       "      <td>75.0</td>\n",
       "    </tr>\n",
       "    <tr>\n",
       "      <th>121</th>\n",
       "      <td>NaN</td>\n",
       "      <td>NaN</td>\n",
       "      <td>NaN</td>\n",
       "      <td>NaN</td>\n",
       "      <td>NaN</td>\n",
       "      <td>NaN</td>\n",
       "      <td>NaN</td>\n",
       "      <td>NaN</td>\n",
       "      <td>NaN</td>\n",
       "    </tr>\n",
       "    <tr>\n",
       "      <th>122</th>\n",
       "      <td>Max</td>\n",
       "      <td>NaN</td>\n",
       "      <td>NaN</td>\n",
       "      <td>NaN</td>\n",
       "      <td>NaN</td>\n",
       "      <td>NaN</td>\n",
       "      <td>NaN</td>\n",
       "      <td>NaN</td>\n",
       "      <td>500.0</td>\n",
       "    </tr>\n",
       "    <tr>\n",
       "      <th>123</th>\n",
       "      <td>Min</td>\n",
       "      <td>NaN</td>\n",
       "      <td>NaN</td>\n",
       "      <td>NaN</td>\n",
       "      <td>NaN</td>\n",
       "      <td>NaN</td>\n",
       "      <td>NaN</td>\n",
       "      <td>NaN</td>\n",
       "      <td>75.0</td>\n",
       "    </tr>\n",
       "  </tbody>\n",
       "</table>\n",
       "<p>124 rows × 9 columns</p>\n",
       "</div>"
      ],
      "text/plain": [
       "     s/n           Artist   ARTIST - FIXED COUNTRY - FIXED   period_active  \\\n",
       "0      1      The Beatles      THE BEATLES   UNITED STATES       1960–1970   \n",
       "1      2    Elvis Presley    ELVIS PRESLEY   UNITED STATES     1954 - 1977   \n",
       "2      3  Michael Jackson  MICHAEL JACKSON  UNITED KINGDOM     1964 - 2009   \n",
       "3      4       Elton John       ELTON JOHN   UNITED STATES  1964 - present   \n",
       "4      5            Queen            QUEEN   UNITED STATES  1971 - present   \n",
       "..   ...              ...              ...             ...             ...   \n",
       "119  120             Kiss             KISS   United States  1972 - present   \n",
       "120  121  Aretha Franklin  ARETHA FRANKLIN   United States     1956 - 2018   \n",
       "121  NaN              NaN              NaN             NaN             NaN   \n",
       "122  Max              NaN              NaN             NaN             NaN   \n",
       "123  Min              NaN              NaN             NaN             NaN   \n",
       "\n",
       "       Year                            Genre  TCU(millions)  sales(millions)  \n",
       "0    1962.0                       Rock / pop          290.4              NaN  \n",
       "1    1956.0    Rock and roll / pop / country          231.2            500.0  \n",
       "2    1971.0  Pop / rock / dance / soul / R&B          277.3            400.0  \n",
       "3    1970.0                       Pop / rock          208.0              NaN  \n",
       "4    1973.0                             Rock            NaN              NaN  \n",
       "..      ...                              ...            ...              ...  \n",
       "119  1974.0          Hard rock / heavy metal           28.7             75.0  \n",
       "120  1961.0        Soul / jazz / blues / R&B           26.6             75.0  \n",
       "121     NaN                              NaN            NaN              NaN  \n",
       "122     NaN                              NaN            NaN            500.0  \n",
       "123     NaN                              NaN            NaN             75.0  \n",
       "\n",
       "[124 rows x 9 columns]"
      ]
     },
     "execution_count": 6,
     "metadata": {},
     "output_type": "execute_result"
    }
   ],
   "source": [
    "data = pd.read_csv(\"/Users/macbook/Desktop/best_selling_artists.csv\")\n",
    "data"
   ]
  },
  {
   "cell_type": "markdown",
   "id": "85150259",
   "metadata": {},
   "source": [
    "Data visualization"
   ]
  },
  {
   "cell_type": "code",
   "execution_count": 7,
   "id": "c8308772",
   "metadata": {},
   "outputs": [
    {
     "name": "stdout",
     "output_type": "stream",
     "text": [
      "<class 'pandas.core.frame.DataFrame'>\n",
      "RangeIndex: 124 entries, 0 to 123\n",
      "Data columns (total 9 columns):\n",
      " #   Column           Non-Null Count  Dtype  \n",
      "---  ------           --------------  -----  \n",
      " 0   s/n              123 non-null    object \n",
      " 1   Artist           121 non-null    object \n",
      " 2   ARTIST - FIXED   121 non-null    object \n",
      " 3   COUNTRY - FIXED  118 non-null    object \n",
      " 4   period_active    121 non-null    object \n",
      " 5   Year             121 non-null    float64\n",
      " 6   Genre            121 non-null    object \n",
      " 7   TCU(millions)    112 non-null    float64\n",
      " 8   sales(millions)  105 non-null    float64\n",
      "dtypes: float64(3), object(6)\n",
      "memory usage: 8.8+ KB\n"
     ]
    }
   ],
   "source": [
    "data.info()"
   ]
  },
  {
   "cell_type": "code",
   "execution_count": 8,
   "id": "f055f2cb",
   "metadata": {},
   "outputs": [
    {
     "data": {
      "text/html": [
       "<div>\n",
       "<style scoped>\n",
       "    .dataframe tbody tr th:only-of-type {\n",
       "        vertical-align: middle;\n",
       "    }\n",
       "\n",
       "    .dataframe tbody tr th {\n",
       "        vertical-align: top;\n",
       "    }\n",
       "\n",
       "    .dataframe thead th {\n",
       "        text-align: right;\n",
       "    }\n",
       "</style>\n",
       "<table border=\"1\" class=\"dataframe\">\n",
       "  <thead>\n",
       "    <tr style=\"text-align: right;\">\n",
       "      <th></th>\n",
       "      <th>count</th>\n",
       "      <th>mean</th>\n",
       "      <th>std</th>\n",
       "      <th>min</th>\n",
       "      <th>25%</th>\n",
       "      <th>50%</th>\n",
       "      <th>75%</th>\n",
       "      <th>max</th>\n",
       "    </tr>\n",
       "  </thead>\n",
       "  <tbody>\n",
       "    <tr>\n",
       "      <th>Year</th>\n",
       "      <td>121.0</td>\n",
       "      <td>1983.016529</td>\n",
       "      <td>16.231134</td>\n",
       "      <td>1940.0</td>\n",
       "      <td>1970.0</td>\n",
       "      <td>1981.0</td>\n",
       "      <td>1998.0</td>\n",
       "      <td>2015.00</td>\n",
       "    </tr>\n",
       "    <tr>\n",
       "      <th>TCU(millions)</th>\n",
       "      <td>112.0</td>\n",
       "      <td>105.647937</td>\n",
       "      <td>77.344263</td>\n",
       "      <td>26.6</td>\n",
       "      <td>51.4</td>\n",
       "      <td>77.3</td>\n",
       "      <td>137.9</td>\n",
       "      <td>413.06</td>\n",
       "    </tr>\n",
       "    <tr>\n",
       "      <th>sales(millions)</th>\n",
       "      <td>105.0</td>\n",
       "      <td>117.142857</td>\n",
       "      <td>69.149146</td>\n",
       "      <td>75.0</td>\n",
       "      <td>80.0</td>\n",
       "      <td>100.0</td>\n",
       "      <td>120.0</td>\n",
       "      <td>500.00</td>\n",
       "    </tr>\n",
       "  </tbody>\n",
       "</table>\n",
       "</div>"
      ],
      "text/plain": [
       "                 count         mean        std     min     25%     50%  \\\n",
       "Year             121.0  1983.016529  16.231134  1940.0  1970.0  1981.0   \n",
       "TCU(millions)    112.0   105.647937  77.344263    26.6    51.4    77.3   \n",
       "sales(millions)  105.0   117.142857  69.149146    75.0    80.0   100.0   \n",
       "\n",
       "                    75%      max  \n",
       "Year             1998.0  2015.00  \n",
       "TCU(millions)     137.9   413.06  \n",
       "sales(millions)   120.0   500.00  "
      ]
     },
     "execution_count": 8,
     "metadata": {},
     "output_type": "execute_result"
    }
   ],
   "source": [
    "data.describe().T"
   ]
  },
  {
   "cell_type": "code",
   "execution_count": 9,
   "id": "219061f4",
   "metadata": {},
   "outputs": [
    {
     "data": {
      "text/plain": [
       "s/n                 1\n",
       "Artist              3\n",
       "ARTIST - FIXED      3\n",
       "COUNTRY - FIXED     6\n",
       "period_active       3\n",
       "Year                3\n",
       "Genre               3\n",
       "TCU(millions)      12\n",
       "sales(millions)    19\n",
       "dtype: int64"
      ]
     },
     "execution_count": 9,
     "metadata": {},
     "output_type": "execute_result"
    }
   ],
   "source": [
    "data.isnull().sum()"
   ]
  },
  {
   "cell_type": "code",
   "execution_count": 11,
   "id": "166024a5",
   "metadata": {},
   "outputs": [
    {
     "data": {
      "text/plain": [
       "s/n                 object\n",
       "Artist              object\n",
       "ARTIST - FIXED      object\n",
       "COUNTRY - FIXED     object\n",
       "period_active       object\n",
       "Year               float64\n",
       "Genre               object\n",
       "TCU(millions)      float64\n",
       "sales(millions)    float64\n",
       "dtype: object"
      ]
     },
     "execution_count": 11,
     "metadata": {},
     "output_type": "execute_result"
    }
   ],
   "source": [
    "data.dtypes"
   ]
  },
  {
   "cell_type": "code",
   "execution_count": 12,
   "id": "79afc529",
   "metadata": {},
   "outputs": [
    {
     "data": {
      "text/plain": [
       "1116"
      ]
     },
     "execution_count": 12,
     "metadata": {},
     "output_type": "execute_result"
    }
   ],
   "source": [
    "data.size"
   ]
  },
  {
   "cell_type": "code",
   "execution_count": null,
   "id": "b24a40cf",
   "metadata": {},
   "outputs": [],
   "source": []
  }
 ],
 "metadata": {
  "kernelspec": {
   "display_name": "Python 3",
   "language": "python",
   "name": "python3"
  },
  "language_info": {
   "codemirror_mode": {
    "name": "ipython",
    "version": 3
   },
   "file_extension": ".py",
   "mimetype": "text/x-python",
   "name": "python",
   "nbconvert_exporter": "python",
   "pygments_lexer": "ipython3",
   "version": "3.8.8"
  }
 },
 "nbformat": 4,
 "nbformat_minor": 5
}
